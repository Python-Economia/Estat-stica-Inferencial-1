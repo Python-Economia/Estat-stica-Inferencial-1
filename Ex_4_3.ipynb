{
 "cells": [
  {
   "cell_type": "code",
   "execution_count": null,
   "metadata": {},
   "outputs": [],
   "source": [
    "'''\n",
    "Em caso de dúvidas ou problemas, solicitamos, por gentileza, entrar em contato pelo e-mail:\n",
    "python.economia@gmail.com\n",
    "\n",
    "\n",
    "Problema sugerido\n",
    "Continuamos com os dados populacionais de altura da população adulta de uma determinada cidade (Arquivo 30.xlsx). \n",
    "Considere o seguinte experimento:\n",
    "Selecionar uma amostra aleatória de tamanho n\n",
    "\n",
    "No exercício Ex_4_1, vimos que para n = 35, a probabilidade de obtermos uma altura média entre 1.69 e 1.71 metro é de 67,45%.\n",
    "No exercício Ex_4_2, vimos que para n = 80, a probabilidade de obtermos uma altura média entre 1.69 e 1.71 metro é de 86,28%.\n",
    "\n",
    "Sendo a média populacional igual 1.70 metro, a maior probabilidade de obter uma média entre 1.69 e 1.71 metro para o tamanho\n",
    "da amostra igual a 80 já era esperada?\n",
    "'''"
   ]
  },
  {
   "cell_type": "code",
   "execution_count": 1,
   "metadata": {},
   "outputs": [],
   "source": [
    "import pandas as pd\n",
    "import numpy as np\n",
    "import matplotlib.pyplot as plt"
   ]
  },
  {
   "cell_type": "code",
   "execution_count": 2,
   "metadata": {},
   "outputs": [],
   "source": [
    "dados_populacionais = pd.read_excel('Arquivo 30.xlsx')"
   ]
  },
  {
   "cell_type": "code",
   "execution_count": 3,
   "metadata": {},
   "outputs": [
    {
     "data": {
      "text/html": [
       "<div>\n",
       "<style scoped>\n",
       "    .dataframe tbody tr th:only-of-type {\n",
       "        vertical-align: middle;\n",
       "    }\n",
       "\n",
       "    .dataframe tbody tr th {\n",
       "        vertical-align: top;\n",
       "    }\n",
       "\n",
       "    .dataframe thead th {\n",
       "        text-align: right;\n",
       "    }\n",
       "</style>\n",
       "<table border=\"1\" class=\"dataframe\">\n",
       "  <thead>\n",
       "    <tr style=\"text-align: right;\">\n",
       "      <th></th>\n",
       "      <th>altura_metros</th>\n",
       "    </tr>\n",
       "  </thead>\n",
       "  <tbody>\n",
       "    <tr>\n",
       "      <th>0</th>\n",
       "      <td>1.74</td>\n",
       "    </tr>\n",
       "    <tr>\n",
       "      <th>1</th>\n",
       "      <td>1.77</td>\n",
       "    </tr>\n",
       "    <tr>\n",
       "      <th>2</th>\n",
       "      <td>1.76</td>\n",
       "    </tr>\n",
       "    <tr>\n",
       "      <th>3</th>\n",
       "      <td>1.67</td>\n",
       "    </tr>\n",
       "    <tr>\n",
       "      <th>4</th>\n",
       "      <td>1.71</td>\n",
       "    </tr>\n",
       "  </tbody>\n",
       "</table>\n",
       "</div>"
      ],
      "text/plain": [
       "   altura_metros\n",
       "0           1.74\n",
       "1           1.77\n",
       "2           1.76\n",
       "3           1.67\n",
       "4           1.71"
      ]
     },
     "execution_count": 3,
     "metadata": {},
     "output_type": "execute_result"
    }
   ],
   "source": [
    "dados_populacionais.head()"
   ]
  },
  {
   "cell_type": "code",
   "execution_count": 4,
   "metadata": {},
   "outputs": [],
   "source": [
    "E_media_amostral = dados_populacionais['altura_metros'].mean()\n",
    "σ = dados_populacionais['altura_metros'].std(ddof=0)"
   ]
  },
  {
   "cell_type": "code",
   "execution_count": 5,
   "metadata": {},
   "outputs": [
    {
     "data": {
      "text/plain": [
       "0.01017049250633578"
      ]
     },
     "execution_count": 5,
     "metadata": {},
     "output_type": "execute_result"
    }
   ],
   "source": [
    "# Erro padrão da distribuição da média amostral para n = 35\n",
    "n_1 = 35\n",
    "\n",
    "sigma_x_barra = σ / np.sqrt(n_1)\n",
    "sigma_x_barra"
   ]
  },
  {
   "cell_type": "code",
   "execution_count": 6,
   "metadata": {},
   "outputs": [
    {
     "data": {
      "text/plain": [
       "0.0067271484707026215"
      ]
     },
     "execution_count": 6,
     "metadata": {},
     "output_type": "execute_result"
    }
   ],
   "source": [
    "# Erro padrão da distribuição da média amostral para n = 80\n",
    "n_2 = 80\n",
    "\n",
    "sigma_x_barra = σ / np.sqrt(n_2)\n",
    "sigma_x_barra"
   ]
  },
  {
   "cell_type": "code",
   "execution_count": null,
   "metadata": {},
   "outputs": [],
   "source": []
  },
  {
   "cell_type": "markdown",
   "metadata": {},
   "source": [
    "---"
   ]
  },
  {
   "cell_type": "code",
   "execution_count": 7,
   "metadata": {},
   "outputs": [],
   "source": [
    "# Gera 10 mil amostras diferentes de tamanho 35\n",
    "q = 10_000     # número de amostras diferentes a serem geradas\n",
    "\n",
    "amostras_35 = list()\n",
    "\n",
    "while len(amostras_35) < q:\n",
    "    amostra = set(np.random.choice(dados_populacionais.index, size=n_1, replace=False))  # n_1 = 35 (tamanho da amostra)\n",
    "    if amostra not in amostras_35:\n",
    "        amostras_35.append(amostra)"
   ]
  },
  {
   "cell_type": "code",
   "execution_count": 8,
   "metadata": {},
   "outputs": [],
   "source": [
    "# Calcula a média para cada uma das 10 mil amostras que obtivemos para n = 35\n",
    "medias_amostras_35 = list()\n",
    "for amostra in amostras_35:\n",
    "    alturas_amostra = dados_populacionais.loc[amostra]\n",
    "    media_alturas = alturas_amostra.mean()\n",
    "    medias_amostras_35.append(float(media_alturas))"
   ]
  },
  {
   "cell_type": "code",
   "execution_count": null,
   "metadata": {},
   "outputs": [],
   "source": []
  },
  {
   "cell_type": "code",
   "execution_count": 9,
   "metadata": {},
   "outputs": [],
   "source": [
    "# Gera 10 mil amostras diferentes de tamanho 80\n",
    "q = 10_000     # número de amostras diferentes a serem geradas\n",
    "amostras_80 = list()\n",
    "\n",
    "while len(amostras_80) < q:\n",
    "    amostra = set(np.random.choice(dados_populacionais.index, size=n_2, replace=False)) # n_2 = 80 (tamanho da amostra)\n",
    "    if amostra not in amostras_80:\n",
    "        amostras_80.append(amostra)"
   ]
  },
  {
   "cell_type": "code",
   "execution_count": 10,
   "metadata": {},
   "outputs": [],
   "source": [
    "# Calcula a média para cada uma das 10 mil amostras que obtivemos para n = 80\n",
    "medias_amostras_80 = list()\n",
    "for amostra in amostras_80:\n",
    "    alturas_amostra = dados_populacionais.loc[amostra]\n",
    "    media_alturas = alturas_amostra.mean()\n",
    "    medias_amostras_80.append(float(media_alturas))"
   ]
  },
  {
   "cell_type": "code",
   "execution_count": 11,
   "metadata": {},
   "outputs": [
    {
     "data": {
      "image/png": "[encoded data removed]",
      "text/plain": [
       "<Figure size 432x288 with 1 Axes>"
      ]
     },
     "metadata": {
      "needs_background": "light"
     },
     "output_type": "display_data"
    }
   ],
   "source": [
    "plt.hist(medias_amostras_35, \n",
    "         weights=[1/len(medias_amostras_35)] * len(medias_amostras_35),  # Necessário para frequência relativa \n",
    "         color='red', \n",
    "         label='n=35')\n",
    "plt.hist(medias_amostras_80, \n",
    "         weights=[1/len(medias_amostras_80)] * len(medias_amostras_80),\n",
    "         color='blue', \n",
    "         label='n=80')\n",
    "plt.legend()\n",
    "plt.show()"
   ]
  },
  {
   "cell_type": "code",
   "execution_count": null,
   "metadata": {},
   "outputs": [],
   "source": [
    "'''\n",
    "O erro padrão da média amostral (sigma_x_barra) é calculado pela seguinte fórmula:\n",
    "\n",
    "sigma_x_barra = σ / (n ** 0.5)               (em que: σ é o desvio padrão dos dados populacionais\n",
    "                                                      n é o tamanho da amostra\n",
    "                                                      n ** 0.5 é a raiz quadrada de n)\n",
    "\n",
    "Podemos ver que quando aumentamos o tamanho da amostra, o erro padrão da média amostral diminui. Um menor erro padrão significa\n",
    "um gráfico mais \"fino\", com uma concentração maior das possíveis médias amostrais mais próxima da média populacional.\n",
    "Para n=35, temos um erro padrão de 0.01017.\n",
    "Para n=80, temos um erro padrão de 0.0067\n",
    "Observe que o histograma de frequência relativa azul, construído com as 10 mil médias para amostras de tamanho 80, possui uma\n",
    "maior concentração de dados próximos à média populacional (1.70) enquanto o histograma vermelho possui um maior espalhamento\n",
    "dos dados, com uma maior proporção de dados nas caudas (longe da média populacional de 1.70).\n",
    "Assim, amostras maiores tendem a produzir estimativas mais próximas da média populacional (a média amostral é um estimador \n",
    "consistente da média populacional).\n",
    "Podemos concluir que, para uma amostra de tamanho 80, já poderíamos esperar obter uma maior probabilidade de que a média \n",
    "amostral esteja dentro de uma determinada distância da média populacional (em relação a uma amostra de tamanho 35).\n",
    "'''"
   ]
  },
  {
   "cell_type": "code",
   "execution_count": null,
   "metadata": {},
   "outputs": [],
   "source": [
    "'''\n",
    "Nota\n",
    "Pudemos ver que se aumentamos o tamanho da nossa amostra, com tudo mais constante, a probabilidade de obtermos uma média\n",
    "amostral muito afastada da verdadeira média populacional (que, nas aplicações, queremos estimar) diminui.  \n",
    "Naturalmente, isto só vale nas aplicações se escolhermos nossa única amostra através de algum processo de amostragem criterioso\n",
    "(como a \"amostragem aleatória simples\" em que cada possível amostra de tamanho n tenha a mesma probabilidade de ser\n",
    "selecionada). Se o processo de amostragem é tal que a amostra escolhida seja viesada, mesmo que a amostra seja grande, não temos \n",
    "porque acreditar que temos uma grande probabilidade de obter uma estimativa amostral próxima do parâmetro populacional que \n",
    "estamos tentando estimar. \n",
    "'''"
   ]
  },
  {
   "cell_type": "code",
   "execution_count": null,
   "metadata": {},
   "outputs": [],
   "source": []
  },
  {
   "cell_type": "code",
   "execution_count": null,
   "metadata": {},
   "outputs": [],
   "source": []
  }
 ],
 "metadata": {
  "kernelspec": {
   "display_name": "Python 3",
   "language": "python",
   "name": "python3"
  },
  "language_info": {
   "codemirror_mode": {
    "name": "ipython",
    "version": 3
   },
   "file_extension": ".py",
   "mimetype": "text/x-python",
   "name": "python",
   "nbconvert_exporter": "python",
   "pygments_lexer": "ipython3",
   "version": "3.7.3"
  }
 },
 "nbformat": 4,
 "nbformat_minor": 2
}
