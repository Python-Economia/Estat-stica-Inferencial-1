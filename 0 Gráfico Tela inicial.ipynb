{
 "cells": [
  {
   "cell_type": "code",
   "execution_count": null,
   "metadata": {},
   "outputs": [],
   "source": [
    "'''\n",
    "Contribua com nosso projeto de disponibilizar mais material deste tipo fazendo uma doação para o pix: python.economia@gmail.com\n",
    "\n",
    "\n",
    "Neste arquivo, apresentamos os comandos utilizados para gerar o gráfico que colocamos na tela inicial das aulas do curso de\n",
    "Introdução à Inferência Estatística I. Veja as aulas em nosso canal do youtube:\n",
    "https://www.youtube.com/channel/UCmliDKnSuMJ1Pi4hqGdn2Dw\n",
    "\n",
    "Os itens 1, 2 e 3 apenas tentam esclarecer alguns comandos que aparecem no tópico 4, em que construímos de fato o gráfico.\n",
    "\n",
    "'''"
   ]
  },
  {
   "cell_type": "code",
   "execution_count": 1,
   "metadata": {},
   "outputs": [],
   "source": [
    "import matplotlib.patches\n",
    "import matplotlib.pyplot as plt\n",
    "import numpy as np\n",
    "import scipy.stats as stats"
   ]
  },
  {
   "cell_type": "code",
   "execution_count": null,
   "metadata": {},
   "outputs": [],
   "source": []
  },
  {
   "cell_type": "code",
   "execution_count": null,
   "metadata": {},
   "outputs": [],
   "source": []
  },
  {
   "cell_type": "markdown",
   "metadata": {},
   "source": [
    "### 1. List comprehension"
   ]
  },
  {
   "cell_type": "code",
   "execution_count": 2,
   "metadata": {},
   "outputs": [
    {
     "data": {
      "text/plain": [
       "[1, 4, 9, 16]"
      ]
     },
     "execution_count": 2,
     "metadata": {},
     "output_type": "execute_result"
    }
   ],
   "source": [
    "# 1.1 \n",
    "lista_1 = [1, 2, 3, 4]\n",
    "\n",
    "x_quadrado = list()\n",
    "\n",
    "for i in lista_1:\n",
    "    i_quadrado = i ** 2\n",
    "    x_quadrado.append(i_quadrado)\n",
    "    \n",
    "x_quadrado"
   ]
  },
  {
   "cell_type": "code",
   "execution_count": 3,
   "metadata": {},
   "outputs": [
    {
     "data": {
      "text/plain": [
       "[1, 4, 9, 16]"
      ]
     },
     "execution_count": 3,
     "metadata": {},
     "output_type": "execute_result"
    }
   ],
   "source": [
    "# 1.2: List comprehension\n",
    "# O que fizemos em 1.1 pode ser feito em apenas uma linha da forma abaixo (list comprehension)\n",
    "[x ** 2 for x in lista_1]"
   ]
  },
  {
   "cell_type": "code",
   "execution_count": 4,
   "metadata": {},
   "outputs": [
    {
     "data": {
      "text/plain": [
       "[(0, 0), (1, 2), (1, 1), (2, 2)]"
      ]
     },
     "execution_count": 4,
     "metadata": {},
     "output_type": "execute_result"
    }
   ],
   "source": [
    "# 1.3: O operador + aplicado à duas listas faz a junção das listas, como abaixo\n",
    "[(0,0), (1, 2)] + [(1,1), (2,2)]"
   ]
  },
  {
   "cell_type": "code",
   "execution_count": null,
   "metadata": {},
   "outputs": [],
   "source": []
  },
  {
   "cell_type": "code",
   "execution_count": null,
   "metadata": {},
   "outputs": [],
   "source": []
  },
  {
   "cell_type": "markdown",
   "metadata": {},
   "source": [
    "--- "
   ]
  },
  {
   "cell_type": "markdown",
   "metadata": {},
   "source": [
    "### 2. Função: Gerando os valores de f(x)"
   ]
  },
  {
   "cell_type": "code",
   "execution_count": 5,
   "metadata": {},
   "outputs": [
    {
     "data": {
      "text/plain": [
       "array([ 0. ,  2.5,  5. ,  7.5, 10. ])"
      ]
     },
     "execution_count": 5,
     "metadata": {},
     "output_type": "execute_result"
    }
   ],
   "source": [
    "# 2.1: Gera 5 números de 0 a 10 igualmente espaçados\n",
    "x = np.linspace(start=0, stop=10, num=5)   \n",
    "x"
   ]
  },
  {
   "cell_type": "code",
   "execution_count": 6,
   "metadata": {},
   "outputs": [],
   "source": [
    "# 2.2: Define uma função f\n",
    "def f(i):\n",
    "    y = 2 * i\n",
    "    return y"
   ]
  },
  {
   "cell_type": "code",
   "execution_count": 7,
   "metadata": {},
   "outputs": [
    {
     "data": {
      "text/plain": [
       "array([ 0.,  5., 10., 15., 20.])"
      ]
     },
     "execution_count": 7,
     "metadata": {},
     "output_type": "execute_result"
    }
   ],
   "source": [
    "# 2.3: Retorna y = f(x)  para os valores de x em 2.1\n",
    "f(x)"
   ]
  },
  {
   "cell_type": "code",
   "execution_count": null,
   "metadata": {},
   "outputs": [],
   "source": []
  },
  {
   "cell_type": "code",
   "execution_count": null,
   "metadata": {},
   "outputs": [],
   "source": []
  },
  {
   "cell_type": "markdown",
   "metadata": {},
   "source": [
    "---"
   ]
  },
  {
   "cell_type": "markdown",
   "metadata": {},
   "source": [
    "### 3. Polígonos"
   ]
  },
  {
   "cell_type": "code",
   "execution_count": 8,
   "metadata": {},
   "outputs": [
    {
     "data": {
      "image/png": "[encoded data removed]",
      "text/plain": [
       "<Figure size 432x288 with 1 Axes>"
      ]
     },
     "metadata": {
      "needs_background": "light"
     },
     "output_type": "display_data"
    }
   ],
   "source": [
    "fig, ax = plt.subplots()\n",
    "\n",
    "ponto_1 = (0.2, 0.4) \n",
    "ponto_2 = (0.2, 0.8)\n",
    "ponto_3 = (0.8, 0.2)\n",
    "\n",
    "vertices = [ponto_1, ponto_2, ponto_3]\n",
    "poly = matplotlib.patches.Polygon(vertices, \n",
    "                                  facecolor='0.9', \n",
    "                                  edgecolor='0.5', \n",
    "                                  hatch='/')\n",
    "\n",
    "ax.add_patch(poly)\n",
    "plt.show()"
   ]
  },
  {
   "cell_type": "code",
   "execution_count": null,
   "metadata": {},
   "outputs": [],
   "source": []
  },
  {
   "cell_type": "code",
   "execution_count": null,
   "metadata": {},
   "outputs": [],
   "source": []
  },
  {
   "cell_type": "markdown",
   "metadata": {},
   "source": [
    "---"
   ]
  },
  {
   "cell_type": "markdown",
   "metadata": {},
   "source": [
    "### 4. Curva Normal (construção do gráfico)"
   ]
  },
  {
   "cell_type": "code",
   "execution_count": 9,
   "metadata": {},
   "outputs": [],
   "source": [
    "def N(x, media=0, desvio_padrao=1):\n",
    "    '''\n",
    "    Retorna os valores \n",
    "    '''\n",
    "    y = stats.norm.pdf(x, loc=media, scale=desvio_padrao)\n",
    "    return y"
   ]
  },
  {
   "cell_type": "code",
   "execution_count": 10,
   "metadata": {},
   "outputs": [
    {
     "data": {
      "image/png": "[encoded data removed]",
      "text/plain": [
       "<Figure size 576x288 with 1 Axes>"
      ]
     },
     "metadata": {
      "needs_background": "light"
     },
     "output_type": "display_data"
    }
   ],
   "source": [
    "# Gera o gráfico da curva normal padrão utilizando a função criada acima\n",
    "x = np.linspace(start=-3, stop=3, num=100)\n",
    "\n",
    "fig, ax = plt.subplots(figsize=(8, 4))\n",
    "ax.plot(x, N(x))\n",
    "plt.show()"
   ]
  },
  {
   "cell_type": "code",
   "execution_count": null,
   "metadata": {},
   "outputs": [],
   "source": []
  },
  {
   "cell_type": "code",
   "execution_count": 11,
   "metadata": {},
   "outputs": [
    {
     "data": {
      "text/plain": [
       "-1.9599639845400545"
      ]
     },
     "execution_count": 11,
     "metadata": {},
     "output_type": "execute_result"
    }
   ],
   "source": [
    "# Obtém valor de x1 para que área abaixo de x1 igual a 0.025\n",
    "x1 = stats.norm.ppf(0.025, loc=0, scale = 1)\n",
    "x1"
   ]
  },
  {
   "cell_type": "code",
   "execution_count": 12,
   "metadata": {},
   "outputs": [
    {
     "data": {
      "text/plain": [
       "1.9599639845400545"
      ]
     },
     "execution_count": 12,
     "metadata": {},
     "output_type": "execute_result"
    }
   ],
   "source": [
    "# Obtém valor de x2 para que área acima de x2 iguala 0.025\n",
    "x2 = stats.norm.isf(0.025, loc=0, scale = 1)\n",
    "x2"
   ]
  },
  {
   "cell_type": "code",
   "execution_count": 13,
   "metadata": {},
   "outputs": [
    {
     "data": {
      "image/png": "[encoded data removed]",
      "text/plain": [
       "<Figure size 576x288 with 1 Axes>"
      ]
     },
     "metadata": {
      "needs_background": "light"
     },
     "output_type": "display_data"
    }
   ],
   "source": [
    "# Abaixo, podemos ver x1 e x2 graficamente\n",
    "x = np.linspace(start=-3, stop=3, num=1000) \n",
    "\n",
    "fig, ax = plt.subplots(figsize=(8, 4))\n",
    "ax.plot(x, N(x))\n",
    "\n",
    "ax.set_ylim(ymin=0)\n",
    "\n",
    "ax.spines[['top', 'right']].set_visible(False)\n",
    "\n",
    "ax.vlines(x=x1, ymin=0, ymax=N(x1), linestyle='--', color='black')\n",
    "ax.vlines(x=x2, ymin=0, ymax=N(x2), linestyle='--', color='black')\n",
    "\n",
    "ax.set_xticks([x1, x2])\n",
    "ax.set_xticklabels(labels=['x1', 'x2'], fontdict={'color': 'red','horizontalalignment': 'center'})\n",
    "\n",
    "ax.annotate(text='0.025', xy=(-2.2, 0.02), xytext=(-3, 0.08), arrowprops={'arrowstyle':'->'})\n",
    "ax.annotate(text='0.025', xy=(2.2, 0.02), xytext=(2.5, 0.08), arrowprops={'arrowstyle':'->'})\n",
    "\n",
    "plt.show()"
   ]
  },
  {
   "cell_type": "code",
   "execution_count": null,
   "metadata": {},
   "outputs": [],
   "source": []
  },
  {
   "cell_type": "code",
   "execution_count": 14,
   "metadata": {},
   "outputs": [
    {
     "data": {
      "image/png": "[encoded data removed]",
      "text/plain": [
       "<Figure size 720x432 with 1 Axes>"
      ]
     },
     "metadata": {
      "needs_background": "light"
     },
     "output_type": "display_data"
    }
   ],
   "source": [
    "# Gera a curva normal padrão\n",
    "x = np.linspace(start=-3, stop=3, num=1000)\n",
    "fig, ax = plt.subplots(figsize=(10, 6))\n",
    "ax.plot(x, N(x))\n",
    "ax.set_ylim(ymin=0)\n",
    "ax.set_xticks([x1, x2])\n",
    "ax.set_xticklabels(labels=['$z_{α/2}$', '$z_{α/2}$'],   #$z_{α/2}$ é a forma utilizada no latex para escrever \"α/2\" subscrito\n",
    "                           fontdict={'color': 'red','horizontalalignment': 'center', 'size':18})\n",
    "ax.set_yticks([])\n",
    "ax.spines[['top', 'left', 'right']].set_visible(False)\n",
    "\n",
    "# Gera a área cinza abaixo da curva normal padrão\n",
    "n_vertices = 1000   # comece atribuindo o valor 2 e aumente de 2 em 2 para ver o que ocorre com o gráfico\n",
    "x_area_cinza =  np.linspace(start=x1, stop=x2, num=n_vertices)\n",
    "vertices = [(x1, 0)] + [(x, N(x)) for x in x_area_cinza] + [(x2, 0)]\n",
    "poly = matplotlib.patches.Polygon(vertices, facecolor='0.9', edgecolor='black')\n",
    "ax.add_patch(poly)\n",
    "\n",
    "ax.text(x=(x1 + x2)/2,y=0.15, s=\"1 - α\", fontsize=25, horizontalalignment='center', color='red')\n",
    "ax.annotate(text='α/2', xy=(-2.2, 0.02), xytext=(-3, 0.08), color='red', fontsize=18, arrowprops={'arrowstyle':'->'})\n",
    "ax.annotate(text='α/2', xy=(2.2, 0.02), xytext=(2.5, 0.08), color='red', fontsize=18,arrowprops={'arrowstyle':'->'})\n",
    "\n",
    "plt.show()"
   ]
  },
  {
   "cell_type": "code",
   "execution_count": null,
   "metadata": {},
   "outputs": [],
   "source": []
  }
 ],
 "metadata": {
  "kernelspec": {
   "display_name": "Python 3",
   "language": "python",
   "name": "python3"
  },
  "language_info": {
   "codemirror_mode": {
    "name": "ipython",
    "version": 3
   },
   "file_extension": ".py",
   "mimetype": "text/x-python",
   "name": "python",
   "nbconvert_exporter": "python",
   "pygments_lexer": "ipython3",
   "version": "3.7.3"
  }
 },
 "nbformat": 4,
 "nbformat_minor": 2
}
