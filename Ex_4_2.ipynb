{
 "cells": [
  {
   "cell_type": "code",
   "execution_count": null,
   "metadata": {
    "id": "7M0KzBlNT7Bw"
   },
   "outputs": [],
   "source": [
    "'''\n",
    "Em caso de dúvidas ou problemas, solicitamos, por gentileza, entrar em contato pelo e-mail:\n",
    "python.economia@gmail.com\n",
    "\n",
    "\n",
    "Problema sugerido\n",
    "Considere os dados populacionais de altura da população adulta de uma determinada cidade (Arquivo 30.xlsx) e também o \n",
    "experimento que consiste em selecionar uma amostra aleatória de tamanho n.\n",
    "\n",
    "No exercício anterior (Ex_4_1), vimos que:\n",
    "- Para um tamanho de amostra igual a 35 (n=35) a probabilidade de obtermos uma altura média entre 1.69 e 1.71 metro é de 67,45%.\n",
    "  \n",
    "a) Utilizando os dados populacionais do \"Arquivo 30.xls\", selecione 10 mil amostras de tamanho 35.\n",
    "   Destas 10 mil amostras, qual a porcentagem que você espera estar entre 1.69 e 1.71 metro?\n",
    "   Realize uma simulação para ver qual a porcentagem das 10 mil amostras apresentam média entre 1.69 e 1.71.  \n",
    " \n",
    "b) Agora considere o experimento de selecionar uma amostra de 80 pessoas\n",
    "   Qual é a probabilidade de que a altura média das 80 pessoas a serem selecionadas esteja entre 1.69 e 1.71 metro?\n",
    "\n",
    "c) Repita a simulação do item a com amostras de tamanho 80.\n",
    "\n",
    "'''"
   ]
  },
  {
   "cell_type": "code",
   "execution_count": 1,
   "metadata": {
    "executionInfo": {
     "elapsed": 668,
     "status": "ok",
     "timestamp": 1661889527295,
     "user": {
      "displayName": "Charles Massami",
      "userId": "04969195849510864546"
     },
     "user_tz": 180
    },
    "id": "bMwT3P87QPL6"
   },
   "outputs": [],
   "source": [
    "import pandas as pd\n",
    "import numpy as np\n",
    "import matplotlib.pyplot as plt\n",
    "import scipy.stats"
   ]
  },
  {
   "cell_type": "code",
   "execution_count": 2,
   "metadata": {
    "executionInfo": {
     "elapsed": 9189,
     "status": "ok",
     "timestamp": 1661889580358,
     "user": {
      "displayName": "Charles Massami",
      "userId": "04969195849510864546"
     },
     "user_tz": 180
    },
    "id": "3xVX7WLBQPOI"
   },
   "outputs": [],
   "source": [
    "dados_populacionais = pd.read_excel('Arquivo 30.xlsx')"
   ]
  },
  {
   "cell_type": "code",
   "execution_count": 3,
   "metadata": {
    "colab": {
     "base_uri": "https://localhost:8080/"
    },
    "executionInfo": {
     "elapsed": 4,
     "status": "ok",
     "timestamp": 1661890587270,
     "user": {
      "displayName": "Charles Massami",
      "userId": "04969195849510864546"
     },
     "user_tz": 180
    },
    "id": "nPB22-9SQPQp",
    "outputId": "9ea41ec7-ba69-4780-b2da-36e91700366c"
   },
   "outputs": [
    {
     "data": {
      "text/plain": [
       "altura_metros    1.700076\n",
       "dtype: float64"
      ]
     },
     "execution_count": 3,
     "metadata": {},
     "output_type": "execute_result"
    }
   ],
   "source": [
    "# Media populacional\n",
    "dados_populacionais.mean()"
   ]
  },
  {
   "cell_type": "code",
   "execution_count": 4,
   "metadata": {
    "colab": {
     "base_uri": "https://localhost:8080/"
    },
    "executionInfo": {
     "elapsed": 238,
     "status": "ok",
     "timestamp": 1661890635816,
     "user": {
      "displayName": "Charles Massami",
      "userId": "04969195849510864546"
     },
     "user_tz": 180
    },
    "id": "-VBl9m4fUh-H",
    "outputId": "86317ed7-a1cf-45f3-89be-48714db1eaf0"
   },
   "outputs": [
    {
     "data": {
      "text/plain": [
       "altura_metros    0.060169\n",
       "dtype: float64"
      ]
     },
     "execution_count": 4,
     "metadata": {},
     "output_type": "execute_result"
    }
   ],
   "source": [
    "# Desvio Padrão Populacional\n",
    "dados_populacionais.std(ddof=0)"
   ]
  },
  {
   "cell_type": "code",
   "execution_count": null,
   "metadata": {},
   "outputs": [],
   "source": []
  },
  {
   "cell_type": "code",
   "execution_count": null,
   "metadata": {
    "id": "Ufbf2UK3UiDU"
   },
   "outputs": [],
   "source": []
  },
  {
   "cell_type": "markdown",
   "metadata": {},
   "source": [
    "#### a) Utilizando os dados populacionais do \"Arquivo 30.xls\", selecione 10 mil amostras de tamanho 35.\n",
    "#### Destas 10 mil amostras, qual a porcentagem que você espera estar entre 1.69 e 1.71 metros?\n",
    "#### Realize uma simulação para ver qual a porcentagem das 10 mil amostras apresentam média entre 1.69 e 1.71.  "
   ]
  },
  {
   "cell_type": "code",
   "execution_count": null,
   "metadata": {},
   "outputs": [],
   "source": [
    "'''\n",
    "Para um tamanho de amostra igual a 35 (n=35) a probabilidade de obtermos uma altura média entre 1.69 e 1.71 metros é de 67,45%.\n",
    "Assim, destas 10 mil amostras, podemos esperar que (aproximadamente) 67,45% estejam entre 1.69 e 1.71.\n",
    "'''"
   ]
  },
  {
   "cell_type": "code",
   "execution_count": null,
   "metadata": {},
   "outputs": [],
   "source": [
    "# Simulações abaixo"
   ]
  },
  {
   "cell_type": "code",
   "execution_count": 5,
   "metadata": {},
   "outputs": [],
   "source": [
    "# Gera 10 mil amostras diferentes de tamanho 35\n",
    "q = 10_000     # número de amostras diferentes a serem geradas\n",
    "n = 35          # tamanho das amostras\n",
    "amostras_35 = list()\n",
    "\n",
    "while len(amostras_35) < q:\n",
    "    amostra = set(np.random.choice(dados_populacionais.index, size=n, replace=False))\n",
    "    if amostra not in amostras_35:\n",
    "        amostras_35.append(amostra)"
   ]
  },
  {
   "cell_type": "code",
   "execution_count": 6,
   "metadata": {},
   "outputs": [],
   "source": [
    "# Calcula a média para cada uma das 10 mil amostras que obtivemos de tamanho 35\n",
    "medias_amostras_35 = list()\n",
    "for amostra in amostras_35:\n",
    "    alturas_amostra = dados_populacionais.loc[amostra]\n",
    "    media_alturas = alturas_amostra.mean()\n",
    "    medias_amostras_35.append(float(media_alturas))"
   ]
  },
  {
   "cell_type": "code",
   "execution_count": 7,
   "metadata": {},
   "outputs": [
    {
     "name": "stdout",
     "output_type": "stream",
     "text": [
      "Medias entre 1.69 e 1.71: 67.71000000000001%\n"
     ]
    }
   ],
   "source": [
    "# Calcula a porcentagem de amostras dentro do intervalo [1.69 e 1.71]\n",
    "x_barra_1 = 1.69\n",
    "x_barra_2 = 1.71\n",
    "\n",
    "df_medias = pd.Series(medias_amostras_35) # Cria uma Serie com as 10 mil medias amostrais calculadas acima \n",
    "contagem = df_medias.between(left=x_barra_1, right=x_barra_2, inclusive='both').value_counts() # True: valores no intervalo [1.69 e 1.71]\n",
    "print(f'Medias entre 1.69 e 1.71: {100*(contagem[True] / q)}%')"
   ]
  },
  {
   "cell_type": "code",
   "execution_count": null,
   "metadata": {},
   "outputs": [],
   "source": [
    "'''\n",
    "67.71% das 10 mil amostras geraram médias entre 1.69 e 1.71\n",
    "Como esperávamos, um valor próximo de 67,45%.\n",
    "'''"
   ]
  },
  {
   "cell_type": "code",
   "execution_count": null,
   "metadata": {},
   "outputs": [],
   "source": []
  },
  {
   "cell_type": "code",
   "execution_count": null,
   "metadata": {
    "id": "kYfLzRe6UiFt"
   },
   "outputs": [],
   "source": []
  },
  {
   "cell_type": "markdown",
   "metadata": {},
   "source": [
    "#### b) Agora considere o experimento de selecionar uma amostra de 80 pessoas\n",
    "#### Qual é a probabilidade de que a altura média das 80 pessoas a serem selecionadas esteja entre 1.69 e 1.71 metro?"
   ]
  },
  {
   "attachments": {
    "Ex_2_b%20%282%29.png": {
     "image/png": "[encoded data removed]"
    }
   },
   "cell_type": "markdown",
   "metadata": {},
   "source": [
    "![Ex_2_b%20%282%29.png](attachment:Ex_2_b%20%282%29.png)"
   ]
  },
  {
   "cell_type": "code",
   "execution_count": 8,
   "metadata": {},
   "outputs": [
    {
     "data": {
      "text/plain": [
       "array([0.8628318])"
      ]
     },
     "execution_count": 8,
     "metadata": {},
     "output_type": "execute_result"
    }
   ],
   "source": [
    "n = 80\n",
    "x_barra_1 = 1.69\n",
    "x_barra_2 = 1.71\n",
    "\n",
    "E_media_amostral = dados_populacionais.mean()\n",
    "σ = dados_populacionais.std(ddof=0)\n",
    "sigma_x_barra = σ / np.sqrt(n)\n",
    "\n",
    "area_2 = scipy.stats.norm.cdf(x=x_barra_2, loc=E_media_amostral, scale=sigma_x_barra) # Calcula a área abaixo de 1.71\n",
    "area_1 = scipy.stats.norm.cdf(x=x_barra_1, loc=E_media_amostral, scale=sigma_x_barra) # Calcula a área abaixo de 1.69  \n",
    "area = area_2 - area_1   # Calcula a área abaixo de 1.71 retirando-se a a área abaixo de 1.69 (resultando na área entre 1.69 e 1.71)  \n",
    "area"
   ]
  },
  {
   "cell_type": "code",
   "execution_count": null,
   "metadata": {},
   "outputs": [],
   "source": [
    "'''\n",
    "A probabilidade de que altura média das 80 pessoas a serem selecionadas esteja entre 1.69 e 1.71 metros é de 86,28%.\n",
    "'''"
   ]
  },
  {
   "cell_type": "code",
   "execution_count": null,
   "metadata": {},
   "outputs": [],
   "source": []
  },
  {
   "cell_type": "code",
   "execution_count": null,
   "metadata": {},
   "outputs": [],
   "source": []
  },
  {
   "cell_type": "markdown",
   "metadata": {},
   "source": [
    "#### c) Repita a simulação do item a com amostras de tamanho 80."
   ]
  },
  {
   "cell_type": "code",
   "execution_count": 9,
   "metadata": {},
   "outputs": [],
   "source": [
    "# Gera 10 mil amostras diferentes de tamanho 80 \n",
    "q = 10_000     # número de amostras diferentes a serem geradas\n",
    "n = 80          # tamanho das amostras\n",
    "amostras_80 = list()\n",
    "\n",
    "while len(amostras_80) < q:\n",
    "    amostra = set(np.random.choice(dados_populacionais.index, size=n, replace=False))\n",
    "    if amostra not in amostras_80:\n",
    "        amostras_80.append(amostra)"
   ]
  },
  {
   "cell_type": "code",
   "execution_count": 10,
   "metadata": {},
   "outputs": [],
   "source": [
    "# Calcula a média para cada uma das 10 mil amostras que obtivemos de tamanho 80\n",
    "medias_amostras_80 = list()\n",
    "for amostra in amostras_80:\n",
    "    alturas_amostra = dados_populacionais.loc[amostra]\n",
    "    media_alturas = alturas_amostra.mean()\n",
    "    medias_amostras_80.append(float(media_alturas))"
   ]
  },
  {
   "cell_type": "code",
   "execution_count": 11,
   "metadata": {},
   "outputs": [
    {
     "name": "stdout",
     "output_type": "stream",
     "text": [
      "Medias entre 1.69 e 1.71: 86.41%\n"
     ]
    }
   ],
   "source": [
    "# Calcula a porcentagem de amostras dentro do intervalo [1.69 e 1.71]\n",
    "\n",
    "x_barra_1 = 1.69\n",
    "x_barra_2 = 1.71\n",
    "\n",
    "df_medias = pd.Series(medias_amostras_80) # Cria uma Serie com as 10 mil medias amostrais calculadas acima \n",
    "contagem = df_medias.between(left=x_barra_1, right=x_barra_2, inclusive='both').value_counts() # True: valores no intervalo [1.69 e 1.71]\n",
    "print(f'Medias entre 1.69 e 1.71: {100*(contagem[True] / q)}%')"
   ]
  },
  {
   "cell_type": "code",
   "execution_count": null,
   "metadata": {},
   "outputs": [],
   "source": [
    "'''\n",
    "86.41% das 10 mil amostras geraram médias entre 1.69 e 1.71\n",
    "Como esperávamos, um valor próximo de 86,28%.\n",
    "'''"
   ]
  },
  {
   "cell_type": "code",
   "execution_count": null,
   "metadata": {},
   "outputs": [],
   "source": []
  },
  {
   "cell_type": "code",
   "execution_count": null,
   "metadata": {},
   "outputs": [],
   "source": []
  }
 ],
 "metadata": {
  "colab": {
   "authorship_tag": "ABX9TyM2H1VOctNiceSagRxniwxz",
   "collapsed_sections": [],
   "name": "Distribuicao Amostral Ex 1.ipynb",
   "provenance": []
  },
  "kernelspec": {
   "display_name": "Python 3",
   "language": "python",
   "name": "python3"
  },
  "language_info": {
   "codemirror_mode": {
    "name": "ipython",
    "version": 3
   },
   "file_extension": ".py",
   "mimetype": "text/x-python",
   "name": "python",
   "nbconvert_exporter": "python",
   "pygments_lexer": "ipython3",
   "version": "3.7.3"
  }
 },
 "nbformat": 4,
 "nbformat_minor": 1
}
