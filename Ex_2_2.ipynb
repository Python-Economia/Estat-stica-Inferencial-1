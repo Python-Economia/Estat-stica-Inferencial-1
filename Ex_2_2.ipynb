{
 "cells": [
  {
   "cell_type": "code",
   "execution_count": null,
   "metadata": {
    "id": "Mrc58KkaM3Oq"
   },
   "outputs": [],
   "source": [
    "'''\n",
    "Exercício comentado baseado em:\n",
    "(Anderson et al.) Estatística Aplicada à Economia e Administração - tradução da 8º edição (Cengage Learning, 2021)  \n",
    "Capítulo 6: Distribuições Contínuas de Probabilidade \n",
    "Item 6.4: Distribuição de probabilidade exponencial\n",
    "Exemplo: Terminal de cargas da Schips\n",
    "'''"
   ]
  },
  {
   "cell_type": "code",
   "execution_count": null,
   "metadata": {},
   "outputs": [],
   "source": [
    "'''\n",
    "Para responder a questão proposta, lembre-se o que vimos em aula:\n",
    "\n",
    "Uma variável aleatória contínua é aquela que pode assumir qualquer valor em um intervalo ou um conjunto de intervalos.\n",
    "Como num intervalo não vazio temos infinitos números, uma variável aleatória contínua pode assumir um número infinito de \n",
    "valores.\n",
    "\n",
    "Para uma variável aleatória discreta, a distribuição de probabilidade é definida por uma função probabilidade que associa uma\n",
    "probabilidade a cada valor que a variável aleatória pode assumir.\n",
    "\n",
    "Para variáveis aleatórias contínuas a distribuição de probabilidade é definida por uma função densidade de probabilidade. A \n",
    "diferença em relação à Distribuição de Probabilidade de variáveis aleatórias discretas é que a função densidade de probabilidade\n",
    "das variáveis aleatórias contínuas não nos fornece diretamente a probabilidade para cada valor possível da variável aleatória.\n",
    "Para calcularmos probabilidades envolvendo variáveis aleatórias contínuas devemos calcular a área correspondente a um dado \n",
    "intervalo sob a curva do gráfico de sua função densidade de probabilidade. \n",
    "Por isso, num problema envolvendo uma variável aleatória contínua, tão logo a função densidade de probabilidade seja\n",
    "identificada, a probabilidade da variável aleatória assumir um valor dentro de um intervalo é encontrada pelo cálculo da área \n",
    "sob o gráfico da sua função densidade de probabilidade no intervalo de interesse.\n",
    "\n",
    "Sabendo disso, responda a questão abaixo.\n",
    "'''"
   ]
  },
  {
   "cell_type": "code",
   "execution_count": null,
   "metadata": {},
   "outputs": [],
   "source": []
  },
  {
   "cell_type": "code",
   "execution_count": null,
   "metadata": {
    "id": "Wj5QJyjiR9Vv"
   },
   "outputs": [],
   "source": [
    "'''\n",
    "Questão proposta\n",
    "\n",
    "Uma empresa logística fez um estudo para entender o tempo de carregamento de caminhões em uma de suas filiais.\n",
    "No estudo foi estabelecido:\n",
    "-> a variável aleatória x (contínua): o tempo de carregamento de um caminhão em minutos\n",
    "-> que a distribuição de probabilidade da variável aleatória x pode ser definida por uma função densidade de probabilidade \n",
    "   exponencial\n",
    "-> que os dados históricos podiam ser usados para obtenção da média populacional do tempo de carregamento. Essa média foi\n",
    "   calculada em 15 min (μ = 15)\n",
    "\n",
    "Com isso, pede-se:\n",
    "a) Calcule a probabilidade de que o tempo de carregamento de um caminhão se dê entre 6 e 18 minutos.\n",
    "   Note que, para calcular essa probabilidade devemos calcular a área entre 6 e 18 na figura abaixo, em que f(x) é a função\n",
    "   densidade de probabilidade exponencial.\n",
    "   \n",
    "b) Calcule a probabilidade do tempo de carregamento de um caminhão ser de 4 minutos.\n",
    "'''"
   ]
  },
  {
   "attachments": {
    "Exponencial%20-%20Portugues%203.png": {
     "image/png": "[encoded data removed]"
    }
   },
   "cell_type": "markdown",
   "metadata": {},
   "source": [
    "![Exponencial%20-%20Portugues%203.png](attachment:Exponencial%20-%20Portugues%203.png)"
   ]
  },
  {
   "cell_type": "code",
   "execution_count": null,
   "metadata": {
    "id": "_DpNfJFri0aU"
   },
   "outputs": [],
   "source": []
  },
  {
   "cell_type": "code",
   "execution_count": null,
   "metadata": {
    "id": "CspLpQ8JerIC"
   },
   "outputs": [],
   "source": []
  },
  {
   "cell_type": "markdown",
   "metadata": {
    "id": "mdLXi12pev-k"
   },
   "source": [
    "### Respostas"
   ]
  },
  {
   "cell_type": "code",
   "execution_count": 1,
   "metadata": {
    "id": "euwmOW1bOVtD"
   },
   "outputs": [],
   "source": [
    "import scipy.stats"
   ]
  },
  {
   "cell_type": "code",
   "execution_count": null,
   "metadata": {
    "id": "HI4rxpJzmgse"
   },
   "outputs": [],
   "source": [
    "# a) Calcule a probabilida de que o tempo de carregamento de um caminhão se dê entre 6 e 18 minutos."
   ]
  },
  {
   "cell_type": "code",
   "execution_count": 2,
   "metadata": {
    "colab": {
     "base_uri": "https://localhost:8080/"
    },
    "executionInfo": {
     "elapsed": 248,
     "status": "ok",
     "timestamp": 1661961465271,
     "user": {
      "displayName": "Charles Massami",
      "userId": "04969195849510864546"
     },
     "user_tz": 180
    },
    "id": "bq08H6zGQCLG",
    "outputId": "daea4b9f-11a3-470f-9ac5-43d751db0867"
   },
   "outputs": [
    {
     "data": {
      "text/plain": [
       "0.36912583412343714"
      ]
     },
     "execution_count": 2,
     "metadata": {},
     "output_type": "execute_result"
    }
   ],
   "source": [
    "# Aqui, calculamos a área em azul mais escuro na imagem dada na questão (área sob o gráfico entre 6 e 18)\n",
    "area_abaixo_dezoito = scipy.stats.expon.cdf(x=18, scale=15)  # calcula a área abaixo de 18\n",
    "area_abaixo_seis = scipy.stats.expon.cdf(x=6, scale=15)      # calcula a área abaixo de 6\n",
    "area_azul_escuro = area_abaixo_dezoito - area_abaixo_seis    # calcula a área abaixo de 18, subtraindo a área abaixo de 6\n",
    "area_azul_escuro"
   ]
  },
  {
   "cell_type": "code",
   "execution_count": null,
   "metadata": {
    "id": "ptjhOHc1OZBy"
   },
   "outputs": [],
   "source": [
    "# A probabilidade de que o tempo de carregamento de um caminhão se dê entre 6 e 18 minutos é de 36,91%"
   ]
  },
  {
   "cell_type": "code",
   "execution_count": null,
   "metadata": {},
   "outputs": [],
   "source": []
  },
  {
   "cell_type": "code",
   "execution_count": null,
   "metadata": {},
   "outputs": [],
   "source": []
  },
  {
   "cell_type": "code",
   "execution_count": null,
   "metadata": {
    "id": "eM8dJSFti0cV"
   },
   "outputs": [],
   "source": [
    "'''\n",
    "b) Calcule a probabilidade do tempo de carregamento de um caminhão ser de 4 minutos. \n",
    "\n",
    "Resposta sugerida\n",
    "A probabilidade do tempo de carregamento de um caminhão ser de 4 minutos é ZERO.\n",
    "Diferentemente das variáveis aleatórias discretas, para variáveis aleatórias contínuas não falamos em probabilidade da variável\n",
    "aleatória assumir um valor em particular.\n",
    "\n",
    "Como a probabilidade de uma variável aleatória contínua assumir um valor dentro de um intervalo é calculada pela área sob o \n",
    "gráfico da função densidade de probabilidade, e uma vez que um único ponto é um intervalo de largura zero, temos que a \n",
    "probabilidade de qualquer variável aleatória contínua assumir um valor em particular é sempre zero.\n",
    "\n",
    "Assim, quando falamos em variáveis aleatórias contínuas, o que podemos calcular é a probabilidade da variável assumir um valor \n",
    "dentro de um dado intervalo. \n",
    "Lembre-se que com variáveis aleatórias contínuas não nos perguntamos qual a probabilidade de obtermos um determinado valor, \n",
    "mas sim qual a probabilidade da variável aleatória assumir um valor num dado intervalo.\n",
    "\n",
    "'''"
   ]
  }
 ],
 "metadata": {
  "colab": {
   "authorship_tag": "ABX9TyPOnmbKOc+I1Sp4LPL/nGci",
   "collapsed_sections": [],
   "provenance": []
  },
  "kernelspec": {
   "display_name": "Python 3",
   "language": "python",
   "name": "python3"
  },
  "language_info": {
   "codemirror_mode": {
    "name": "ipython",
    "version": 3
   },
   "file_extension": ".py",
   "mimetype": "text/x-python",
   "name": "python",
   "nbconvert_exporter": "python",
   "pygments_lexer": "ipython3",
   "version": "3.7.3"
  }
 },
 "nbformat": 4,
 "nbformat_minor": 1
}
