{
 "cells": [
  {
   "cell_type": "code",
   "execution_count": null,
   "metadata": {
    "id": "WIm8Evq3u3Kw"
   },
   "outputs": [],
   "source": [
    "'''\n",
    "Considere um experimento \"ϵ\" e que estamos interessados num resultado particular A (ou Evento A). Considere também que repetimos\n",
    "o experimento \"n\" vezes. \n",
    "Definimos a frequência relativa de A (que notamos por \"f_a\" abaixo) nas \"n\" repetições do experimento ϵ como:\n",
    "    \n",
    "    f_a = (n_a) / n        [em que \"n_a\" é o número de vezes que o resultado A ocorreu nas n repetições]\n",
    "                           [em palavras: f_a é a proporção de vezes que o resultado A ocorreu nas n repetições do experimento]   \n",
    "\n",
    "f_a tem a seguinte característica, conhecida como regularidade estatística: \n",
    "Se repetirmos o experimento ϵ mais e mais vezes (ou seja, se n for \"grande\"), f_a se estabilizará \"perto\" de algum número.\n",
    "\n",
    "Algo distinto mas relacionado é a atribuição de uma probabilidade \"P(A)\" ao resultado A, que deve ser um número que avalia a \n",
    "\"chance\" de obtermos o resultado A quando o experimento ϵ for realizado. \n",
    "Independentemente de como escolher P(A), para que este número que chamaremos de probabilidade de A tenha significado, qualquer\n",
    "experimentação posterior envolvendo muitas repetições deverá produzir uma frequência relativa f_a próxima de P(A).\n",
    "\n",
    "Assim, essa característica (regularidade estatística) da frequência relativa nos permite pensar no seguinte procedimento:\n",
    "Para calcular a probabilidade de algum resultado (evento), em vez de calcularmos analiticamente esta probabilidade, podemos\n",
    "repetir o experimento um grande número de vezes e calcular a frequencia relativa do resultado de interesse. Após isso, \n",
    "utilizamos essa frequencia relativa baseada numa grande quantidade de repetições como aproximação da sua probabilidade. \n",
    "\n",
    "Obs.: A frequencia relativa de A e a probabilidade de A não são a mesma coisa. O procedimento proposto busca encontrar uma \n",
    "aproximação da probabilidade de A utilizando-se a frequência relativa de A recorrendo-se à \"experimentação\".\n",
    "'''"
   ]
  },
  {
   "cell_type": "code",
   "execution_count": null,
   "metadata": {
    "id": "I31RBblW1Hi_"
   },
   "outputs": [],
   "source": [
    "'''\n",
    "Vamos utilizar a ideia acima para um exemplo simples.\n",
    "\n",
    "Experimento: Jogar duas moedas para o alto (verificar as faces voltadas para cima)\n",
    "Defina a seguinte Variável Aleatória X: número de caras obtido.\n",
    "\n",
    "Utilize o procedimento de \"repetições do experimento\" para encontrar P(X=1) utilizando a frequencia relativa de vezes em que \n",
    "obtemos x=1 nas repetições. \n",
    "\n",
    "Observações:\n",
    "1) P(X=1) é a probabilidade da variável aleatória x (número de caras obtido) assumir o valor 1 ao ser realizado o experimento\n",
    "   [Ou seja, queremos saber qual a probabilidade de obtermos exatamente uma cara na jogada de duas moedas para o alto]\n",
    "\n",
    "2) O lançamento de duas moedas ao alto pode não ser algo de interesse. Mas a ideia de que podemos obter a probabilidade \n",
    "   aproximada de algo recorrendo à experimentação via computador pode ser útil em muitas situações.\n",
    "\n",
    "'''"
   ]
  },
  {
   "cell_type": "code",
   "execution_count": null,
   "metadata": {
    "id": "VMBPThKxu3N3"
   },
   "outputs": [],
   "source": []
  },
  {
   "cell_type": "code",
   "execution_count": null,
   "metadata": {
    "executionInfo": {
     "elapsed": 1616,
     "status": "ok",
     "timestamp": 1667491818682,
     "user": {
      "displayName": "Charles Massami",
      "userId": "04969195849510864546"
     },
     "user_tz": 180
    },
    "id": "kAE5fcOGM_Jx"
   },
   "outputs": [],
   "source": []
  },
  {
   "cell_type": "markdown",
   "metadata": {
    "id": "I-9ftcf2vgSK"
   },
   "source": [
    "# Sugestão 1:  \n",
    "Tentamos reproduzir \"n\" vezes os seguintes passos:  \n",
    "Passo 1: Arremessar duas moedas    \n",
    "Passo 2: Anotar o número de caras obtido (ou seja, o valor que a variável aleatória assume)      \n",
    "Passo 3: Calcular e anotar a frequência relativa de x = 1 (número de vezes que obtivemos exatamente uma cara divido pelo número de repetições até o momento)      \n",
    "  \n",
    "Para \"n\" grande, imaginamos que a frequencia relativa se estabilize próximo de algum número que utilizaremos para aproximar P(X=1)."
   ]
  },
  {
   "cell_type": "code",
   "execution_count": 1,
   "metadata": {
    "executionInfo": {
     "elapsed": 2,
     "status": "ok",
     "timestamp": 1667505932751,
     "user": {
      "displayName": "Charles Massami",
      "userId": "04969195849510864546"
     },
     "user_tz": 180
    },
    "id": "WaMCr7Vd5k03"
   },
   "outputs": [],
   "source": [
    "import random\n",
    "import matplotlib.pyplot as plt"
   ]
  },
  {
   "cell_type": "code",
   "execution_count": 2,
   "metadata": {
    "executionInfo": {
     "elapsed": 1124,
     "status": "ok",
     "timestamp": 1667506050476,
     "user": {
      "displayName": "Charles Massami",
      "userId": "04969195849510864546"
     },
     "user_tz": 180
    },
    "id": "FeMdeaHju3Rn"
   },
   "outputs": [],
   "source": [
    "# Lançamento das moedas\n",
    "moeda = ['Cara', 'Coroa']\n",
    "numeros_moedas = 2\n",
    "arremessos = 10_000\n",
    "\n",
    "resultados_moedas = list()\n",
    "resultados_frequencia_relativa = list()\n",
    "\n",
    "face_interesse = \"Cara\"\n",
    "resultado_favoravel = 1    # se a variável aleatória for 1 (Ou seja: obtemos exatamente uma Cara na jogada)\n",
    "\n",
    "numero_resultados_favoraveis = 0   # Para contagem do número de resultados favoráveis para a variável aleatória \n",
    "for (contagem_arremessos, resultado) in enumerate(range(arremessos), start=1):\n",
    "    resultado_moeda = random.choices(moeda, k=numeros_moedas)\n",
    "    if resultado_moeda.count(face_interesse) == resultado_favoravel:\n",
    "        numero_resultados_favoraveis = numero_resultados_favoraveis + 1    # Conta se o resultado for exatamente \"uma cara\"\n",
    "    frequencia_relativa = numero_resultados_favoraveis / contagem_arremessos\n",
    "    resultados_moedas.append(resultado_moeda)\n",
    "    resultados_frequencia_relativa.append(frequencia_relativa)  "
   ]
  },
  {
   "cell_type": "code",
   "execution_count": 3,
   "metadata": {
    "colab": {
     "base_uri": "https://localhost:8080/"
    },
    "executionInfo": {
     "elapsed": 423,
     "status": "ok",
     "timestamp": 1667506053155,
     "user": {
      "displayName": "Charles Massami",
      "userId": "04969195849510864546"
     },
     "user_tz": 180
    },
    "id": "3LMOLjsu0sGP",
    "outputId": "577b3c09-fe22-4f8f-c93d-97e0fa8856d2"
   },
   "outputs": [
    {
     "data": {
      "text/plain": [
       "[['Coroa', 'Coroa'],\n",
       " ['Coroa', 'Coroa'],\n",
       " ['Coroa', 'Coroa'],\n",
       " ['Cara', 'Cara'],\n",
       " ['Cara', 'Coroa']]"
      ]
     },
     "execution_count": 3,
     "metadata": {},
     "output_type": "execute_result"
    }
   ],
   "source": [
    "# Cinco primeiros resultados das moedas\n",
    "resultados_moedas[:5]"
   ]
  },
  {
   "cell_type": "code",
   "execution_count": 4,
   "metadata": {},
   "outputs": [
    {
     "data": {
      "text/plain": [
       "[0.0, 0.0, 0.0, 0.0, 0.2]"
      ]
     },
     "execution_count": 4,
     "metadata": {},
     "output_type": "execute_result"
    }
   ],
   "source": [
    "# 5 primeiros resultados da frequencia relativa\n",
    "resultados_frequencia_relativa[:5]"
   ]
  },
  {
   "cell_type": "code",
   "execution_count": 5,
   "metadata": {
    "colab": {
     "base_uri": "https://localhost:8080/"
    },
    "executionInfo": {
     "elapsed": 3,
     "status": "ok",
     "timestamp": 1667502059602,
     "user": {
      "displayName": "Charles Massami",
      "userId": "04969195849510864546"
     },
     "user_tz": 180
    },
    "id": "A4kIpCEr1GQn",
    "outputId": "8df419a6-7387-4368-e750-973e54be3827"
   },
   "outputs": [
    {
     "data": {
      "text/plain": [
       "[0.5000500450405365,\n",
       " 0.5001000800640513,\n",
       " 0.5001501050735515,\n",
       " 0.5001000600360216,\n",
       " 0.5000500250125063,\n",
       " 0.5,\n",
       " 0.5000500150045013,\n",
       " 0.5001000200040008,\n",
       " 0.5001500150015001,\n",
       " 0.5001]"
      ]
     },
     "execution_count": 5,
     "metadata": {},
     "output_type": "execute_result"
    }
   ],
   "source": [
    "# 10 últimos resultados da frequencia relativa\n",
    "resultados_frequencia_relativa[-10:]"
   ]
  },
  {
   "cell_type": "code",
   "execution_count": null,
   "metadata": {},
   "outputs": [],
   "source": [
    "'''\n",
    "Note que a frequência relativa se estabiliza próximo de 0,5, o que nos leva a acreditar que P(X=1) é próximo de 50%\n",
    "\n",
    "De fato P(X=1) = 0,5 (ou 50%).\n",
    "\n",
    "Veja:\n",
    "Experimento: Jogar duas moedas para o alto (verificar as faces voltadas para cima)\n",
    "Espaço Amostral = {KK, KC, CK, CC}         K: Cara, C: Coroa ; Espaço Amostral = conjunto com todo os resultados possíveis\n",
    "\n",
    "[Lembre-se que estamos interessados no caso em que obtemos o número de caras igual a 1]\n",
    "Obteremos 1 cara para os seguintes resultados: KC e CK    \n",
    "\n",
    "\n",
    "P(X=1) = 2 / 4 = 0,5        [Temos 2 resultado favoráveis (KC e CK) em 4 possíveis (KK, KC, CK, CC)]\n",
    "'''"
   ]
  },
  {
   "cell_type": "code",
   "execution_count": null,
   "metadata": {},
   "outputs": [],
   "source": []
  },
  {
   "cell_type": "code",
   "execution_count": 6,
   "metadata": {
    "colab": {
     "base_uri": "https://localhost:8080/",
     "height": 265
    },
    "executionInfo": {
     "elapsed": 501,
     "status": "ok",
     "timestamp": 1667506379095,
     "user": {
      "displayName": "Charles Massami",
      "userId": "04969195849510864546"
     },
     "user_tz": 180
    },
    "id": "F6sHineb_IeH",
    "outputId": "4793a77d-dfc9-41c0-95b4-91a9eb49c564"
   },
   "outputs": [
    {
     "data": {
      "image/png": "[encoded data removed]",
      "text/plain": [
       "<Figure size 720x288 with 1 Axes>"
      ]
     },
     "metadata": {
      "needs_background": "light"
     },
     "output_type": "display_data"
    }
   ],
   "source": [
    "# Visualização gráfica \n",
    "# Para ver os 5 primeiros resultados no gráfico, por exemplo, coloque limite_superior = 1 e limite_superior = 5\n",
    "limite_inferior = 1     # A partir de 1\n",
    "limite_superior = 10_000   # máximo: total de arremessos\n",
    "\n",
    "plt.figure(figsize=(10, 4))\n",
    "plt.plot(range(limite_inferior,limite_superior + 1), \n",
    "         resultados_frequencia_relativa[limite_inferior - 1:limite_superior],\n",
    "         label=\"Frequencia Relativa\")\n",
    "plt.axhline(y=0.5, \n",
    "            xmin=0, \n",
    "            xmax=limite_superior, \n",
    "            color='red', \n",
    "            linestyle='--', \n",
    "            linewidth=0.5,\n",
    "            label='P(X=1)')\n",
    "plt.ylim((0, 1))\n",
    "plt.yticks([0, 0.5, 1])\n",
    "plt.ylabel(\"Frequência Relativa\")\n",
    "plt.xlim(limite_inferior, limite_superior)\n",
    "plt.xlabel(\"Número de jogadas\")\n",
    "plt.legend()\n",
    "plt.show()"
   ]
  },
  {
   "cell_type": "code",
   "execution_count": null,
   "metadata": {},
   "outputs": [],
   "source": [
    "'''\n",
    "O gráfico acima nos permite ver a característica de f_a conhecida como regularidade estatística: \n",
    "Se repetirmos o experimento ϵ mais e mais vezes (ou seja, se n for \"grande\"), f_a se estabilizará \"perto\" de algum número.\n",
    "\n",
    "Note que nas primeiras jogadas a frequência relativa tem uma grande variabilidade e, após determinado número de repetições, ela\n",
    "se estabiliza próximo de 0,5 (linha vermelha).\n",
    "'''"
   ]
  },
  {
   "cell_type": "code",
   "execution_count": null,
   "metadata": {},
   "outputs": [],
   "source": []
  },
  {
   "cell_type": "code",
   "execution_count": null,
   "metadata": {},
   "outputs": [],
   "source": []
  },
  {
   "cell_type": "code",
   "execution_count": null,
   "metadata": {},
   "outputs": [],
   "source": []
  },
  {
   "cell_type": "code",
   "execution_count": null,
   "metadata": {},
   "outputs": [],
   "source": []
  },
  {
   "cell_type": "markdown",
   "metadata": {
    "id": "HAJ9UP6e1bLH"
   },
   "source": [
    "# Sugestão 2: Definindo uma função"
   ]
  },
  {
   "cell_type": "code",
   "execution_count": 7,
   "metadata": {},
   "outputs": [],
   "source": [
    "import random\n",
    "import matplotlib.pyplot as plt"
   ]
  },
  {
   "cell_type": "code",
   "execution_count": 8,
   "metadata": {
    "id": "EcWolgRH1GS8"
   },
   "outputs": [],
   "source": [
    "def moeda(n_arremessos, n_moedas):\n",
    "    '''\n",
    "    n_arremessos: número de arremessos\n",
    "    n_moedas: número de moedas a serem lançadas\n",
    "    '''\n",
    "    moeda = ['Cara', 'Coroa']\n",
    "\n",
    "    resultados = list()\n",
    "    for arremesso in range(n_arremessos):\n",
    "        resultado = random.choices(moeda, k=n_moedas)\n",
    "        resultados.append(resultado)\n",
    "    return resultados"
   ]
  },
  {
   "cell_type": "code",
   "execution_count": null,
   "metadata": {},
   "outputs": [],
   "source": []
  },
  {
   "cell_type": "code",
   "execution_count": null,
   "metadata": {},
   "outputs": [],
   "source": []
  },
  {
   "cell_type": "code",
   "execution_count": 9,
   "metadata": {
    "id": "wKTIbNCt1GVS"
   },
   "outputs": [],
   "source": [
    "# Utiliza a funão criada acima para simular as jogadas\n",
    "resultados = moeda(n_arremessos=10_000, n_moedas=2)"
   ]
  },
  {
   "cell_type": "code",
   "execution_count": 10,
   "metadata": {},
   "outputs": [
    {
     "data": {
      "text/plain": [
       "[['Coroa', 'Cara'],\n",
       " ['Cara', 'Coroa'],\n",
       " ['Coroa', 'Coroa'],\n",
       " ['Coroa', 'Cara'],\n",
       " ['Cara', 'Coroa']]"
      ]
     },
     "execution_count": 10,
     "metadata": {},
     "output_type": "execute_result"
    }
   ],
   "source": [
    "# 5 últimos resultados\n",
    "resultados[-5:]"
   ]
  },
  {
   "cell_type": "code",
   "execution_count": 11,
   "metadata": {},
   "outputs": [],
   "source": [
    "# Frequencia relativa para variável aleatória = 1\n",
    "resultados_frequencia_relativa = list()\n",
    "\n",
    "face_interesse = \"Cara\"\n",
    "resultado_favoravel = 1    # se a variável aleatória for 1 (Ou seja: exatamente uma Cara na jogada)\n",
    "\n",
    "numero_resultados_favoraveis = 0\n",
    "for (contagem, resultado) in enumerate(resultados, start=1):\n",
    "    if resultado.count(face_interesse) == resultado_favoravel:\n",
    "        numero_resultados_favoraveis = numero_resultados_favoraveis + 1\n",
    "    frequencia_relativa = numero_resultados_favoraveis / contagem\n",
    "    resultados_frequencia_relativa.append(frequencia_relativa)"
   ]
  },
  {
   "cell_type": "code",
   "execution_count": 12,
   "metadata": {
    "id": "r1E9rXw91GXx"
   },
   "outputs": [
    {
     "data": {
      "image/png": "[encoded data removed]",
      "text/plain": [
       "<Figure size 720x288 with 1 Axes>"
      ]
     },
     "metadata": {
      "needs_background": "light"
     },
     "output_type": "display_data"
    }
   ],
   "source": [
    "# Visualização gráfica \n",
    "limite_inferior = 1       # A partir de 1\n",
    "limite_superior = 10_000   # máximo: número de repeticoes\n",
    "\n",
    "plt.figure(figsize=(10, 4))\n",
    "plt.plot(range(limite_inferior,limite_superior + 1), resultados_frequencia_relativa[limite_inferior - 1:limite_superior])\n",
    "plt.axhline(y=0.5, xmin=0, xmax=limite_superior, color='red', linestyle='--', linewidth=0.5)\n",
    "plt.ylim((0, 1))\n",
    "plt.yticks([0, 0.5, 1])\n",
    "plt.ylabel(\"Frequência Relativa\")\n",
    "plt.xlim(limite_inferior, limite_superior)\n",
    "plt.xlabel(\"Número de jogadas\")\n",
    "plt.show()"
   ]
  },
  {
   "cell_type": "code",
   "execution_count": null,
   "metadata": {},
   "outputs": [],
   "source": []
  },
  {
   "cell_type": "code",
   "execution_count": null,
   "metadata": {},
   "outputs": [],
   "source": []
  },
  {
   "cell_type": "code",
   "execution_count": null,
   "metadata": {},
   "outputs": [],
   "source": []
  },
  {
   "cell_type": "code",
   "execution_count": null,
   "metadata": {},
   "outputs": [],
   "source": [
    "'''\n",
    "A definição de frequência relativa e sua relação com a noção de probabilidade pode ser vista em:\n",
    "Livro: Probabilidade: aplicações à estatística (Edição 2)\n",
    "Autor: Paul L. Meyer\n",
    "Editora Gen|LTC\n",
    "'''"
   ]
  },
  {
   "cell_type": "code",
   "execution_count": null,
   "metadata": {},
   "outputs": [],
   "source": []
  }
 ],
 "metadata": {
  "colab": {
   "authorship_tag": "ABX9TyMpBHBlFq49Q0VlAdLlk6Nk",
   "collapsed_sections": [],
   "provenance": []
  },
  "kernelspec": {
   "display_name": "Python 3",
   "language": "python",
   "name": "python3"
  },
  "language_info": {
   "codemirror_mode": {
    "name": "ipython",
    "version": 3
   },
   "file_extension": ".py",
   "mimetype": "text/x-python",
   "name": "python",
   "nbconvert_exporter": "python",
   "pygments_lexer": "ipython3",
   "version": "3.7.3"
  }
 },
 "nbformat": 4,
 "nbformat_minor": 1
}
